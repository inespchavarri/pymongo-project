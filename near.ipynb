{
 "cells": [
  {
   "cell_type": "code",
   "execution_count": 3,
   "metadata": {},
   "outputs": [
    {
     "data": {
      "text/plain": [
       "True"
      ]
     },
     "execution_count": 3,
     "metadata": {},
     "output_type": "execute_result"
    }
   ],
   "source": [
    "from pymongo import MongoClient\n",
    "import pandas as pd\n",
    "import requests\n",
    "import time\n",
    "import os\n",
    "from dotenv import load_dotenv\n",
    "load_dotenv()"
   ]
  },
  {
   "cell_type": "code",
   "execution_count": 4,
   "metadata": {},
   "outputs": [],
   "source": [
    "client = MongoClient(\"mongodb://localhost:27017/\")"
   ]
  },
  {
   "cell_type": "code",
   "execution_count": 5,
   "metadata": {},
   "outputs": [],
   "source": [
    "db = client.companies"
   ]
  },
  {
   "cell_type": "code",
   "execution_count": 6,
   "metadata": {},
   "outputs": [],
   "source": [
    "collection_companies = db.clean_companies"
   ]
  },
  {
   "cell_type": "code",
   "execution_count": 7,
   "metadata": {},
   "outputs": [],
   "source": [
    "query = collection_companies.find()"
   ]
  },
  {
   "cell_type": "code",
   "execution_count": 8,
   "metadata": {},
   "outputs": [],
   "source": [
    "data = pd.DataFrame(query)"
   ]
  },
  {
   "cell_type": "code",
   "execution_count": 9,
   "metadata": {},
   "outputs": [
    {
     "data": {
      "text/html": [
       "<div>\n",
       "<style scoped>\n",
       "    .dataframe tbody tr th:only-of-type {\n",
       "        vertical-align: middle;\n",
       "    }\n",
       "\n",
       "    .dataframe tbody tr th {\n",
       "        vertical-align: top;\n",
       "    }\n",
       "\n",
       "    .dataframe thead th {\n",
       "        text-align: right;\n",
       "    }\n",
       "</style>\n",
       "<table border=\"1\" class=\"dataframe\">\n",
       "  <thead>\n",
       "    <tr style=\"text-align: right;\">\n",
       "      <th></th>\n",
       "      <th>_id</th>\n",
       "      <th>name</th>\n",
       "      <th>category_code</th>\n",
       "      <th>number_of_employees</th>\n",
       "      <th>founded_year</th>\n",
       "      <th>deadpooled_year</th>\n",
       "      <th>description</th>\n",
       "      <th>latitude</th>\n",
       "      <th>longitude</th>\n",
       "      <th>country</th>\n",
       "      <th>state</th>\n",
       "      <th>city</th>\n",
       "      <th>monedas</th>\n",
       "      <th>total_amount_raised</th>\n",
       "      <th>geo</th>\n",
       "    </tr>\n",
       "  </thead>\n",
       "  <tbody>\n",
       "    <tr>\n",
       "      <th>0</th>\n",
       "      <td>5d83a90255488441b3fff55a</td>\n",
       "      <td>Plaxo</td>\n",
       "      <td>web</td>\n",
       "      <td>50</td>\n",
       "      <td>2002.0</td>\n",
       "      <td>None</td>\n",
       "      <td>Contact Management</td>\n",
       "      <td>37.387845</td>\n",
       "      <td>-122.055197</td>\n",
       "      <td>USA</td>\n",
       "      <td>CA</td>\n",
       "      <td>Sunnyvale</td>\n",
       "      <td>Dolares estadounidenses</td>\n",
       "      <td>2.830000e+07</td>\n",
       "      <td>{'type': 'Point', 'coordinates': [-122.055197,...</td>\n",
       "    </tr>\n",
       "    <tr>\n",
       "      <th>1</th>\n",
       "      <td>5d83a90255488441b3fff55b</td>\n",
       "      <td>Kyte</td>\n",
       "      <td>games_video</td>\n",
       "      <td>40</td>\n",
       "      <td>2006.0</td>\n",
       "      <td>None</td>\n",
       "      <td>Online &amp; Mobile Video Platform</td>\n",
       "      <td>37.788482</td>\n",
       "      <td>-122.409173</td>\n",
       "      <td>USA</td>\n",
       "      <td>CA</td>\n",
       "      <td>San Francisco</td>\n",
       "      <td>Dolares estadounidenses</td>\n",
       "      <td>2.340000e+07</td>\n",
       "      <td>{'type': 'Point', 'coordinates': [-122.409173,...</td>\n",
       "    </tr>\n",
       "    <tr>\n",
       "      <th>2</th>\n",
       "      <td>5d83a90255488441b3fff55c</td>\n",
       "      <td>Twitter</td>\n",
       "      <td>social</td>\n",
       "      <td>1300</td>\n",
       "      <td>2006.0</td>\n",
       "      <td>None</td>\n",
       "      <td>Real time communication platform</td>\n",
       "      <td>37.776805</td>\n",
       "      <td>-122.416924</td>\n",
       "      <td>USA</td>\n",
       "      <td>CA</td>\n",
       "      <td>San Francisco</td>\n",
       "      <td>Dolares estadounidenses</td>\n",
       "      <td>1.160000e+09</td>\n",
       "      <td>{'type': 'Point', 'coordinates': [-122.4169244...</td>\n",
       "    </tr>\n",
       "    <tr>\n",
       "      <th>3</th>\n",
       "      <td>5d83a90255488441b3fff55d</td>\n",
       "      <td>eBay</td>\n",
       "      <td>web</td>\n",
       "      <td>15000</td>\n",
       "      <td>1995.0</td>\n",
       "      <td>None</td>\n",
       "      <td>Online Marketplace</td>\n",
       "      <td>37.295005</td>\n",
       "      <td>-121.930035</td>\n",
       "      <td>USA</td>\n",
       "      <td>CA</td>\n",
       "      <td>San Jose</td>\n",
       "      <td>Dolares estadounidenses</td>\n",
       "      <td>6.700000e+06</td>\n",
       "      <td>{'type': 'Point', 'coordinates': [-121.930035,...</td>\n",
       "    </tr>\n",
       "    <tr>\n",
       "      <th>4</th>\n",
       "      <td>5d83a90255488441b3fff55e</td>\n",
       "      <td>Jajah</td>\n",
       "      <td>mobile</td>\n",
       "      <td>110</td>\n",
       "      <td>2005.0</td>\n",
       "      <td>None</td>\n",
       "      <td>IP Communications Platform</td>\n",
       "      <td>37.423390</td>\n",
       "      <td>-122.089951</td>\n",
       "      <td>USA</td>\n",
       "      <td>CA</td>\n",
       "      <td>Mountain View</td>\n",
       "      <td>Dolares estadounidenses</td>\n",
       "      <td>3.300000e+07</td>\n",
       "      <td>{'type': 'Point', 'coordinates': [-122.0899512...</td>\n",
       "    </tr>\n",
       "  </tbody>\n",
       "</table>\n",
       "</div>"
      ],
      "text/plain": [
       "                        _id     name category_code  number_of_employees  \\\n",
       "0  5d83a90255488441b3fff55a    Plaxo           web                   50   \n",
       "1  5d83a90255488441b3fff55b     Kyte   games_video                   40   \n",
       "2  5d83a90255488441b3fff55c  Twitter        social                 1300   \n",
       "3  5d83a90255488441b3fff55d     eBay           web                15000   \n",
       "4  5d83a90255488441b3fff55e    Jajah        mobile                  110   \n",
       "\n",
       "   founded_year deadpooled_year                       description   latitude  \\\n",
       "0        2002.0            None                Contact Management  37.387845   \n",
       "1        2006.0            None    Online & Mobile Video Platform  37.788482   \n",
       "2        2006.0            None  Real time communication platform  37.776805   \n",
       "3        1995.0            None                Online Marketplace  37.295005   \n",
       "4        2005.0            None        IP Communications Platform  37.423390   \n",
       "\n",
       "    longitude country state           city                  monedas  \\\n",
       "0 -122.055197     USA    CA      Sunnyvale  Dolares estadounidenses   \n",
       "1 -122.409173     USA    CA  San Francisco  Dolares estadounidenses   \n",
       "2 -122.416924     USA    CA  San Francisco  Dolares estadounidenses   \n",
       "3 -121.930035     USA    CA       San Jose  Dolares estadounidenses   \n",
       "4 -122.089951     USA    CA  Mountain View  Dolares estadounidenses   \n",
       "\n",
       "   total_amount_raised                                                geo  \n",
       "0         2.830000e+07  {'type': 'Point', 'coordinates': [-122.055197,...  \n",
       "1         2.340000e+07  {'type': 'Point', 'coordinates': [-122.409173,...  \n",
       "2         1.160000e+09  {'type': 'Point', 'coordinates': [-122.4169244...  \n",
       "3         6.700000e+06  {'type': 'Point', 'coordinates': [-121.930035,...  \n",
       "4         3.300000e+07  {'type': 'Point', 'coordinates': [-122.0899512...  "
      ]
     },
     "execution_count": 9,
     "metadata": {},
     "output_type": "execute_result"
    }
   ],
   "source": [
    "data.head()"
   ]
  },
  {
   "cell_type": "code",
   "execution_count": 10,
   "metadata": {},
   "outputs": [
    {
     "data": {
      "text/plain": [
       "(200, 15)"
      ]
     },
     "execution_count": 10,
     "metadata": {},
     "output_type": "execute_result"
    }
   ],
   "source": [
    "data.shape"
   ]
  },
  {
   "cell_type": "code",
   "execution_count": 11,
   "metadata": {},
   "outputs": [],
   "source": [
    "# Cuento el número de empresas a un kilometro de distancia\n",
    "def getCompaniesNear(geopoint, max_meters=1000):\n",
    "    return len(list(db.clean_companies.find({\n",
    "        \"geo\": {\n",
    "            \"$near\": {\n",
    "               \"$geometry\": geopoint,\n",
    "               \"$maxDistance\": max_meters\n",
    "             }\n",
    "       }\n",
    "    })))"
   ]
  },
  {
   "cell_type": "code",
   "execution_count": 12,
   "metadata": {},
   "outputs": [],
   "source": [
    "# Creo una nueva columna con el número de empresas que están a un km de distancia\n",
    "data[\"num_companies\"] = data[\"geo\"].apply(getCompaniesNear)"
   ]
  },
  {
   "cell_type": "code",
   "execution_count": 13,
   "metadata": {},
   "outputs": [],
   "source": [
    "# Cuento el número de empleados a un kilometro de distancia\n",
    "\n",
    "def getEmployees(geopoint, max_meters=1000):\n",
    "    info = list(db.clean_companies.find({\n",
    "        \"geo\": {\n",
    "            \"$near\": {\n",
    "               \"$geometry\": geopoint,\n",
    "               \"$maxDistance\": max_meters\n",
    "             }\n",
    "       }\n",
    "    }))\n",
    "    \n",
    "    total = 0\n",
    "    for e in info:\n",
    "        total += e[\"number_of_employees\"]\n",
    "    return total"
   ]
  },
  {
   "cell_type": "code",
   "execution_count": 17,
   "metadata": {},
   "outputs": [],
   "source": [
    "# Creo una nueva columna con el número de empleados totales en un radio de un km de distancia"
   ]
  },
  {
   "cell_type": "code",
   "execution_count": 14,
   "metadata": {},
   "outputs": [],
   "source": [
    "data[\"num_employees\"] = data[\"geo\"].apply(getEmployees)"
   ]
  },
  {
   "cell_type": "code",
   "execution_count": 15,
   "metadata": {},
   "outputs": [],
   "source": [
    "# Cuento el total de dinero a un kilometro de distancia\n",
    "\n",
    "def getMoney(geopoint, max_meters=1000):\n",
    "    info = list(db.clean_companies.find({\n",
    "        \"geo\": {\n",
    "            \"$near\": {\n",
    "                \"$geometry\": geopoint,\n",
    "                \"$maxDistance\": max_meters\n",
    "            }\n",
    "        }\n",
    "    }))\n",
    "    \n",
    "    total = 0\n",
    "    for e in info:\n",
    "        total += e[\"total_amount_raised\"]\n",
    "    return total"
   ]
  },
  {
   "cell_type": "code",
   "execution_count": 16,
   "metadata": {},
   "outputs": [],
   "source": [
    "# Creo una nueva columna\n",
    "data[\"total_money\"] = data[\"geo\"].apply(getMoney)"
   ]
  },
  {
   "cell_type": "code",
   "execution_count": 17,
   "metadata": {},
   "outputs": [
    {
     "data": {
      "text/html": [
       "<div>\n",
       "<style scoped>\n",
       "    .dataframe tbody tr th:only-of-type {\n",
       "        vertical-align: middle;\n",
       "    }\n",
       "\n",
       "    .dataframe tbody tr th {\n",
       "        vertical-align: top;\n",
       "    }\n",
       "\n",
       "    .dataframe thead th {\n",
       "        text-align: right;\n",
       "    }\n",
       "</style>\n",
       "<table border=\"1\" class=\"dataframe\">\n",
       "  <thead>\n",
       "    <tr style=\"text-align: right;\">\n",
       "      <th></th>\n",
       "      <th>_id</th>\n",
       "      <th>name</th>\n",
       "      <th>category_code</th>\n",
       "      <th>number_of_employees</th>\n",
       "      <th>founded_year</th>\n",
       "      <th>deadpooled_year</th>\n",
       "      <th>description</th>\n",
       "      <th>latitude</th>\n",
       "      <th>longitude</th>\n",
       "      <th>country</th>\n",
       "      <th>state</th>\n",
       "      <th>city</th>\n",
       "      <th>monedas</th>\n",
       "      <th>total_amount_raised</th>\n",
       "      <th>geo</th>\n",
       "      <th>num_companies</th>\n",
       "      <th>num_employees</th>\n",
       "      <th>total_money</th>\n",
       "    </tr>\n",
       "  </thead>\n",
       "  <tbody>\n",
       "    <tr>\n",
       "      <th>0</th>\n",
       "      <td>5d83a90255488441b3fff55a</td>\n",
       "      <td>Plaxo</td>\n",
       "      <td>web</td>\n",
       "      <td>50</td>\n",
       "      <td>2002.0</td>\n",
       "      <td>None</td>\n",
       "      <td>Contact Management</td>\n",
       "      <td>37.387845</td>\n",
       "      <td>-122.055197</td>\n",
       "      <td>USA</td>\n",
       "      <td>CA</td>\n",
       "      <td>Sunnyvale</td>\n",
       "      <td>Dolares estadounidenses</td>\n",
       "      <td>2.830000e+07</td>\n",
       "      <td>{'type': 'Point', 'coordinates': [-122.055197,...</td>\n",
       "      <td>1</td>\n",
       "      <td>50</td>\n",
       "      <td>2.830000e+07</td>\n",
       "    </tr>\n",
       "    <tr>\n",
       "      <th>1</th>\n",
       "      <td>5d83a90255488441b3fff55b</td>\n",
       "      <td>Kyte</td>\n",
       "      <td>games_video</td>\n",
       "      <td>40</td>\n",
       "      <td>2006.0</td>\n",
       "      <td>None</td>\n",
       "      <td>Online &amp; Mobile Video Platform</td>\n",
       "      <td>37.788482</td>\n",
       "      <td>-122.409173</td>\n",
       "      <td>USA</td>\n",
       "      <td>CA</td>\n",
       "      <td>San Francisco</td>\n",
       "      <td>Dolares estadounidenses</td>\n",
       "      <td>2.340000e+07</td>\n",
       "      <td>{'type': 'Point', 'coordinates': [-122.409173,...</td>\n",
       "      <td>14</td>\n",
       "      <td>1532</td>\n",
       "      <td>5.451700e+08</td>\n",
       "    </tr>\n",
       "    <tr>\n",
       "      <th>2</th>\n",
       "      <td>5d83a90255488441b3fff55c</td>\n",
       "      <td>Twitter</td>\n",
       "      <td>social</td>\n",
       "      <td>1300</td>\n",
       "      <td>2006.0</td>\n",
       "      <td>None</td>\n",
       "      <td>Real time communication platform</td>\n",
       "      <td>37.776805</td>\n",
       "      <td>-122.416924</td>\n",
       "      <td>USA</td>\n",
       "      <td>CA</td>\n",
       "      <td>San Francisco</td>\n",
       "      <td>Dolares estadounidenses</td>\n",
       "      <td>1.160000e+09</td>\n",
       "      <td>{'type': 'Point', 'coordinates': [-122.4169244...</td>\n",
       "      <td>3</td>\n",
       "      <td>1487</td>\n",
       "      <td>1.233400e+09</td>\n",
       "    </tr>\n",
       "  </tbody>\n",
       "</table>\n",
       "</div>"
      ],
      "text/plain": [
       "                        _id     name category_code  number_of_employees  \\\n",
       "0  5d83a90255488441b3fff55a    Plaxo           web                   50   \n",
       "1  5d83a90255488441b3fff55b     Kyte   games_video                   40   \n",
       "2  5d83a90255488441b3fff55c  Twitter        social                 1300   \n",
       "\n",
       "   founded_year deadpooled_year                       description   latitude  \\\n",
       "0        2002.0            None                Contact Management  37.387845   \n",
       "1        2006.0            None    Online & Mobile Video Platform  37.788482   \n",
       "2        2006.0            None  Real time communication platform  37.776805   \n",
       "\n",
       "    longitude country state           city                  monedas  \\\n",
       "0 -122.055197     USA    CA      Sunnyvale  Dolares estadounidenses   \n",
       "1 -122.409173     USA    CA  San Francisco  Dolares estadounidenses   \n",
       "2 -122.416924     USA    CA  San Francisco  Dolares estadounidenses   \n",
       "\n",
       "   total_amount_raised                                                geo  \\\n",
       "0         2.830000e+07  {'type': 'Point', 'coordinates': [-122.055197,...   \n",
       "1         2.340000e+07  {'type': 'Point', 'coordinates': [-122.409173,...   \n",
       "2         1.160000e+09  {'type': 'Point', 'coordinates': [-122.4169244...   \n",
       "\n",
       "   num_companies  num_employees   total_money  \n",
       "0              1             50  2.830000e+07  \n",
       "1             14           1532  5.451700e+08  \n",
       "2              3           1487  1.233400e+09  "
      ]
     },
     "execution_count": 17,
     "metadata": {},
     "output_type": "execute_result"
    }
   ],
   "source": [
    "data.head(3)"
   ]
  },
  {
   "cell_type": "code",
   "execution_count": null,
   "metadata": {},
   "outputs": [],
   "source": [
    "# df.loc[df['Value'].idxmax()]"
   ]
  },
  {
   "cell_type": "code",
   "execution_count": 28,
   "metadata": {},
   "outputs": [
    {
     "data": {
      "text/plain": [
       "_id                                             5d83a90255488441b3fff58d\n",
       "name                                                             Rupture\n",
       "category_code                                                games_video\n",
       "number_of_employees                                                   25\n",
       "founded_year                                                         NaN\n",
       "deadpooled_year                                                     None\n",
       "description                                        Gaming Social Network\n",
       "latitude                                                         37.7839\n",
       "longitude                                                       -122.395\n",
       "country                                                              USA\n",
       "state                                                                 CA\n",
       "city                                                       San Francisco\n",
       "monedas                                          Dolares estadounidenses\n",
       "total_amount_raised                                                3e+06\n",
       "geo                    {'type': 'Point', 'coordinates': [-122.395234,...\n",
       "num_companies                                                         27\n",
       "num_employees                                                       2662\n",
       "total_money                                                   7.0647e+08\n",
       "Name: 51, dtype: object"
      ]
     },
     "execution_count": 28,
     "metadata": {},
     "output_type": "execute_result"
    }
   ],
   "source": [
    "# Extraigo la oficina que más empresas tecnológicas tiene a su alrededor. La longitud y latitud de esta firma \n",
    "# puede servir de referencia para instalar mi empresa. Es del mismo sector.\n",
    "\n",
    "office = data.loc[data[\"num_companies\"].idxmax()]\n",
    "office"
   ]
  },
  {
   "cell_type": "code",
   "execution_count": 29,
   "metadata": {},
   "outputs": [
    {
     "data": {
      "text/plain": [
       "software       70\n",
       "web            57\n",
       "games_video    35\n",
       "mobile         21\n",
       "social         10\n",
       "analytics       7\n",
       "Name: category_code, dtype: int64"
      ]
     },
     "execution_count": 29,
     "metadata": {},
     "output_type": "execute_result"
    }
   ],
   "source": [
    "data[\"category_code\"].value_counts()"
   ]
  },
  {
   "cell_type": "code",
   "execution_count": null,
   "metadata": {},
   "outputs": [],
   "source": [
    "video_games = data"
   ]
  },
  {
   "cell_type": "code",
   "execution_count": 22,
   "metadata": {},
   "outputs": [],
   "source": [
    "# Exporto el dataframe como un csv para visualizar los datos en Tableau"
   ]
  },
  {
   "cell_type": "code",
   "execution_count": 18,
   "metadata": {},
   "outputs": [],
   "source": [
    "data.to_csv(\"./output/data.csv\", index=False)"
   ]
  },
  {
   "cell_type": "code",
   "execution_count": null,
   "metadata": {},
   "outputs": [],
   "source": [
    "# Extracción de datos de la Api"
   ]
  },
  {
   "cell_type": "code",
   "execution_count": 23,
   "metadata": {},
   "outputs": [],
   "source": [
    "zomato_key = os.getenv(\"zomato_key\")"
   ]
  },
  {
   "cell_type": "code",
   "execution_count": 22,
   "metadata": {},
   "outputs": [],
   "source": [
    "def getVeganRestaurants(lat, lon):\n",
    "    \n",
    "    # Hacer una llamada a la api para buscar restaurantes veganos\n",
    "    # Utilizo un radio de 1 km a la redonda\n",
    "    # utilizo la clave 308, la cifra que se corresponde con los locales vegetarianos\n",
    "    \n",
    "    headers = {\n",
    "        \"user-key\": \"{}\".format(zomato_key)\n",
    "    }\n",
    "    url = \"https://developers.zomato.com/api/v2.1/search?lat={}&lon={}&radius=1000&cuisines=308\".format(lat, lon)\n",
    "    response = requests.get(url, headers=headers)\n",
    "    response = response.json()\n",
    "    return response"
   ]
  },
  {
   "cell_type": "code",
   "execution_count": 24,
   "metadata": {},
   "outputs": [],
   "source": [
    "restaurants = data.apply(lambda x: getVeganRestaurants(x[\"latitude\"], x[\"longitude\"]), axis=1)"
   ]
  },
  {
   "cell_type": "code",
   "execution_count": null,
   "metadata": {},
   "outputs": [],
   "source": []
  },
  {
   "cell_type": "code",
   "execution_count": 59,
   "metadata": {},
   "outputs": [],
   "source": [
    "def getInfoRestaurants(data):\n",
    "    info_restaurants = []\n",
    "    for rest in data:\n",
    "        for element in rest[\"restaurants\"]:\n",
    "            restaurant_dict = {\n",
    "                   \"name\": element[\"restaurant\"][\"name\"],\n",
    "                    \"address\": element[\"restaurant\"][\"location\"][\"address\"],\n",
    "                   \"lat\": element[\"restaurant\"][\"location\"][\"latitude\"],\n",
    "                   \"lon\": element[\"restaurant\"][\"location\"][\"longitude\"],\n",
    "                   \"timings\": element[\"restaurant\"][\"timings\"]\n",
    "               }\n",
    "            info_restaurants.append(restaurant_dict)\n",
    "    return info_restaurants\n"
   ]
  },
  {
   "cell_type": "code",
   "execution_count": 63,
   "metadata": {},
   "outputs": [],
   "source": [
    "vegan_restaurants = pd.DataFrame(getInfoRestaurants(restaurants))"
   ]
  },
  {
   "cell_type": "code",
   "execution_count": 64,
   "metadata": {},
   "outputs": [
    {
     "data": {
      "text/html": [
       "<div>\n",
       "<style scoped>\n",
       "    .dataframe tbody tr th:only-of-type {\n",
       "        vertical-align: middle;\n",
       "    }\n",
       "\n",
       "    .dataframe tbody tr th {\n",
       "        vertical-align: top;\n",
       "    }\n",
       "\n",
       "    .dataframe thead th {\n",
       "        text-align: right;\n",
       "    }\n",
       "</style>\n",
       "<table border=\"1\" class=\"dataframe\">\n",
       "  <thead>\n",
       "    <tr style=\"text-align: right;\">\n",
       "      <th></th>\n",
       "      <th>name</th>\n",
       "      <th>address</th>\n",
       "      <th>lat</th>\n",
       "      <th>lon</th>\n",
       "      <th>timings</th>\n",
       "    </tr>\n",
       "  </thead>\n",
       "  <tbody>\n",
       "    <tr>\n",
       "      <th>0</th>\n",
       "      <td>Merit Vegetarian</td>\n",
       "      <td>548 Lawrence Expressway, Sunnyvale 94085</td>\n",
       "      <td>37.3849611111</td>\n",
       "      <td>-121.9949333333</td>\n",
       "      <td>11 AM to 9 PM (Mon-Sun)</td>\n",
       "    </tr>\n",
       "    <tr>\n",
       "      <th>1</th>\n",
       "      <td>Swathi Tiffins</td>\n",
       "      <td>1202 Apollo Way, Sunnyvale 94085</td>\n",
       "      <td>37.3790150000</td>\n",
       "      <td>-121.9949620000</td>\n",
       "      <td>10 AM to 10 PM (Mon-Fri),8:30 AM to 10 PM (Sat...</td>\n",
       "    </tr>\n",
       "    <tr>\n",
       "      <th>2</th>\n",
       "      <td>Great Vegi Land</td>\n",
       "      <td>562 S Murphy Avenue, Sunnyvale 94086</td>\n",
       "      <td>37.3692410000</td>\n",
       "      <td>-122.0324560000</td>\n",
       "      <td>11 AM to 2:30 PM, 5 PM to 9 PM (Mon-Sun)</td>\n",
       "    </tr>\n",
       "    <tr>\n",
       "      <th>3</th>\n",
       "      <td>Panchavati Kitchen Indian Vegetarian Restaurant</td>\n",
       "      <td>460 Persian Dr, Sunnyvale 94089</td>\n",
       "      <td>37.4055950000</td>\n",
       "      <td>-122.0133190000</td>\n",
       "      <td>4 PM to 8 PM (Mon),11 AM to 8 PM (Tue-Sun)</td>\n",
       "    </tr>\n",
       "    <tr>\n",
       "      <th>4</th>\n",
       "      <td>City Kabob</td>\n",
       "      <td>755 S Mathilda Avenue, Sunnyvale 94087</td>\n",
       "      <td>37.3660320000</td>\n",
       "      <td>-122.0361830000</td>\n",
       "      <td>11 AM to 7 PM (Mon-Fri),11 AM to 5 PM (Sat-Sun)</td>\n",
       "    </tr>\n",
       "  </tbody>\n",
       "</table>\n",
       "</div>"
      ],
      "text/plain": [
       "                                              name  \\\n",
       "0                                 Merit Vegetarian   \n",
       "1                                   Swathi Tiffins   \n",
       "2                                  Great Vegi Land   \n",
       "3  Panchavati Kitchen Indian Vegetarian Restaurant   \n",
       "4                                       City Kabob   \n",
       "\n",
       "                                    address            lat              lon  \\\n",
       "0  548 Lawrence Expressway, Sunnyvale 94085  37.3849611111  -121.9949333333   \n",
       "1          1202 Apollo Way, Sunnyvale 94085  37.3790150000  -121.9949620000   \n",
       "2      562 S Murphy Avenue, Sunnyvale 94086  37.3692410000  -122.0324560000   \n",
       "3           460 Persian Dr, Sunnyvale 94089  37.4055950000  -122.0133190000   \n",
       "4    755 S Mathilda Avenue, Sunnyvale 94087  37.3660320000  -122.0361830000   \n",
       "\n",
       "                                             timings  \n",
       "0                            11 AM to 9 PM (Mon-Sun)  \n",
       "1  10 AM to 10 PM (Mon-Fri),8:30 AM to 10 PM (Sat...  \n",
       "2           11 AM to 2:30 PM, 5 PM to 9 PM (Mon-Sun)  \n",
       "3         4 PM to 8 PM (Mon),11 AM to 8 PM (Tue-Sun)  \n",
       "4    11 AM to 7 PM (Mon-Fri),11 AM to 5 PM (Sat-Sun)  "
      ]
     },
     "execution_count": 64,
     "metadata": {},
     "output_type": "execute_result"
    }
   ],
   "source": [
    "vegan_restaurants.head()"
   ]
  },
  {
   "cell_type": "code",
   "execution_count": 65,
   "metadata": {},
   "outputs": [],
   "source": [
    "vegan_restaurants.to_csv(\"./output/vegan_restaurants.csv\", index=False)"
   ]
  },
  {
   "cell_type": "code",
   "execution_count": null,
   "metadata": {},
   "outputs": [],
   "source": []
  },
  {
   "cell_type": "code",
   "execution_count": null,
   "metadata": {},
   "outputs": [],
   "source": []
  },
  {
   "cell_type": "code",
   "execution_count": null,
   "metadata": {},
   "outputs": [],
   "source": []
  }
 ],
 "metadata": {
  "kernelspec": {
   "display_name": "Python 3",
   "language": "python",
   "name": "python3"
  },
  "language_info": {
   "codemirror_mode": {
    "name": "ipython",
    "version": 3
   },
   "file_extension": ".py",
   "mimetype": "text/x-python",
   "name": "python",
   "nbconvert_exporter": "python",
   "pygments_lexer": "ipython3",
   "version": "3.7.3"
  }
 },
 "nbformat": 4,
 "nbformat_minor": 2
}
