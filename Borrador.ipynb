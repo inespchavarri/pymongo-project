{
 "cells": [
  {
   "cell_type": "code",
   "execution_count": null,
   "metadata": {},
   "outputs": [],
   "source": [
    "# Lo que plantea el ejercicio\n"
   ]
  },
  {
   "cell_type": "code",
   "execution_count": null,
   "metadata": {},
   "outputs": [],
   "source": [
    "# Las dos premisas que voy a establecer para un primer filtrdo de la base de datos"
   ]
  },
  {
   "cell_type": "code",
   "execution_count": null,
   "metadata": {},
   "outputs": [],
   "source": [
    "# Me traigo la base de datos y la filtro"
   ]
  },
  {
   "cell_type": "code",
   "execution_count": null,
   "metadata": {},
   "outputs": [],
   "source": [
    "# Previamente he importada la base de datos a compass y la colección\n",
    "# mongoimport --db db_companies --collection companies companies.json"
   ]
  },
  {
   "cell_type": "code",
   "execution_count": 1,
   "metadata": {},
   "outputs": [],
   "source": [
    "# imports\n",
    "from pymongo import MongoClient\n",
    "import pandas as pd"
   ]
  },
  {
   "cell_type": "code",
   "execution_count": 2,
   "metadata": {},
   "outputs": [],
   "source": [
    "# Limpieza de datos con Pandas (valores nulos, etc, etc)\n",
    "# conexión con  mongo\n",
    "client = MongoClient(\"mongodb://localhost:27017/\")"
   ]
  },
  {
   "cell_type": "code",
   "execution_count": 3,
   "metadata": {},
   "outputs": [],
   "source": [
    "# conexión con la base de datos \"db_companies\"\n",
    "db = client.db_companies"
   ]
  },
  {
   "cell_type": "code",
   "execution_count": 4,
   "metadata": {},
   "outputs": [],
   "source": [
    "#coleción companies\n",
    "collection_companies = db.companies"
   ]
  },
  {
   "cell_type": "code",
   "execution_count": 5,
   "metadata": {},
   "outputs": [],
   "source": [
    "# query pidiendo TODO\n",
    "query = collection_companies.find()"
   ]
  },
  {
   "cell_type": "code",
   "execution_count": 6,
   "metadata": {},
   "outputs": [],
   "source": [
    "# convertimos a pandas.DataFrame\n",
    "data = pd.DataFrame(query)"
   ]
  },
  {
   "cell_type": "code",
   "execution_count": 7,
   "metadata": {},
   "outputs": [
    {
     "data": {
      "text/html": [
       "<div>\n",
       "<style scoped>\n",
       "    .dataframe tbody tr th:only-of-type {\n",
       "        vertical-align: middle;\n",
       "    }\n",
       "\n",
       "    .dataframe tbody tr th {\n",
       "        vertical-align: top;\n",
       "    }\n",
       "\n",
       "    .dataframe thead th {\n",
       "        text-align: right;\n",
       "    }\n",
       "</style>\n",
       "<table border=\"1\" class=\"dataframe\">\n",
       "  <thead>\n",
       "    <tr style=\"text-align: right;\">\n",
       "      <th></th>\n",
       "      <th>_id</th>\n",
       "      <th>name</th>\n",
       "      <th>permalink</th>\n",
       "      <th>crunchbase_url</th>\n",
       "      <th>homepage_url</th>\n",
       "      <th>blog_url</th>\n",
       "      <th>blog_feed_url</th>\n",
       "      <th>twitter_username</th>\n",
       "      <th>category_code</th>\n",
       "      <th>number_of_employees</th>\n",
       "      <th>...</th>\n",
       "      <th>video_embeds</th>\n",
       "      <th>screenshots</th>\n",
       "      <th>external_links</th>\n",
       "      <th>partners</th>\n",
       "      <th>founded_month</th>\n",
       "      <th>founded_day</th>\n",
       "      <th>deadpooled_month</th>\n",
       "      <th>deadpooled_day</th>\n",
       "      <th>deadpooled_url</th>\n",
       "      <th>ipo</th>\n",
       "    </tr>\n",
       "  </thead>\n",
       "  <tbody>\n",
       "    <tr>\n",
       "      <th>0</th>\n",
       "      <td>52cdef7c4bab8bd675297d8b</td>\n",
       "      <td>AdventNet</td>\n",
       "      <td>abc3</td>\n",
       "      <td>http://www.crunchbase.com/company/adventnet</td>\n",
       "      <td>http://adventnet.com</td>\n",
       "      <td></td>\n",
       "      <td></td>\n",
       "      <td>manageengine</td>\n",
       "      <td>enterprise</td>\n",
       "      <td>600.0</td>\n",
       "      <td>...</td>\n",
       "      <td>[]</td>\n",
       "      <td>[{'available_sizes': [[[150, 94], 'assets/imag...</td>\n",
       "      <td>[]</td>\n",
       "      <td>[]</td>\n",
       "      <td>NaN</td>\n",
       "      <td>NaN</td>\n",
       "      <td>NaN</td>\n",
       "      <td>NaN</td>\n",
       "      <td>NaN</td>\n",
       "      <td>NaN</td>\n",
       "    </tr>\n",
       "    <tr>\n",
       "      <th>1</th>\n",
       "      <td>52cdef7c4bab8bd675297d8c</td>\n",
       "      <td>Zoho</td>\n",
       "      <td>abc4</td>\n",
       "      <td>http://www.crunchbase.com/company/zoho</td>\n",
       "      <td>http://zoho.com</td>\n",
       "      <td>http://blogs.zoho.com/</td>\n",
       "      <td>http://blogs.zoho.com/feed</td>\n",
       "      <td>zoho</td>\n",
       "      <td>software</td>\n",
       "      <td>1600.0</td>\n",
       "      <td>...</td>\n",
       "      <td>[{'embed_code': '&lt;object width=\"430\" height=\"2...</td>\n",
       "      <td>[]</td>\n",
       "      <td>[{'external_url': 'http://www.online-tech-tips...</td>\n",
       "      <td>[]</td>\n",
       "      <td>9.0</td>\n",
       "      <td>15.0</td>\n",
       "      <td>NaN</td>\n",
       "      <td>NaN</td>\n",
       "      <td>NaN</td>\n",
       "      <td>NaN</td>\n",
       "    </tr>\n",
       "    <tr>\n",
       "      <th>2</th>\n",
       "      <td>52cdef7c4bab8bd675297d8a</td>\n",
       "      <td>Wetpaint</td>\n",
       "      <td>abc2</td>\n",
       "      <td>http://www.crunchbase.com/company/wetpaint</td>\n",
       "      <td>http://wetpaint-inc.com</td>\n",
       "      <td>http://digitalquarters.net/</td>\n",
       "      <td>http://digitalquarters.net/feed/</td>\n",
       "      <td>BachelrWetpaint</td>\n",
       "      <td>web</td>\n",
       "      <td>47.0</td>\n",
       "      <td>...</td>\n",
       "      <td>[]</td>\n",
       "      <td>[{'available_sizes': [[[150, 86], 'assets/imag...</td>\n",
       "      <td>[{'external_url': 'http://www.geekwire.com/201...</td>\n",
       "      <td>[]</td>\n",
       "      <td>10.0</td>\n",
       "      <td>17.0</td>\n",
       "      <td>NaN</td>\n",
       "      <td>NaN</td>\n",
       "      <td>NaN</td>\n",
       "      <td>NaN</td>\n",
       "    </tr>\n",
       "    <tr>\n",
       "      <th>3</th>\n",
       "      <td>52cdef7c4bab8bd675297d8f</td>\n",
       "      <td>Omnidrive</td>\n",
       "      <td>omnidrive</td>\n",
       "      <td>http://www.crunchbase.com/company/omnidrive</td>\n",
       "      <td>http://www.omnidrive.com</td>\n",
       "      <td>http://www.omnidrive.com/blog</td>\n",
       "      <td>http://feeds.feedburner.com/omnidrive</td>\n",
       "      <td>Nomadesk</td>\n",
       "      <td>network_hosting</td>\n",
       "      <td>NaN</td>\n",
       "      <td>...</td>\n",
       "      <td>[]</td>\n",
       "      <td>[]</td>\n",
       "      <td>[]</td>\n",
       "      <td>[]</td>\n",
       "      <td>11.0</td>\n",
       "      <td>1.0</td>\n",
       "      <td>9.0</td>\n",
       "      <td>15.0</td>\n",
       "      <td></td>\n",
       "      <td>None</td>\n",
       "    </tr>\n",
       "    <tr>\n",
       "      <th>4</th>\n",
       "      <td>52cdef7c4bab8bd675297d91</td>\n",
       "      <td>Geni</td>\n",
       "      <td>geni</td>\n",
       "      <td>http://www.crunchbase.com/company/geni</td>\n",
       "      <td>http://www.geni.com</td>\n",
       "      <td>http://blog.geni.com</td>\n",
       "      <td>http://blog.geni.com/index.rdf</td>\n",
       "      <td>geni</td>\n",
       "      <td>web</td>\n",
       "      <td>18.0</td>\n",
       "      <td>...</td>\n",
       "      <td>[{'embed_code': '&lt;object width=\"425\" height=\"3...</td>\n",
       "      <td>[]</td>\n",
       "      <td>[]</td>\n",
       "      <td>[]</td>\n",
       "      <td>6.0</td>\n",
       "      <td>1.0</td>\n",
       "      <td>NaN</td>\n",
       "      <td>NaN</td>\n",
       "      <td>None</td>\n",
       "      <td>None</td>\n",
       "    </tr>\n",
       "  </tbody>\n",
       "</table>\n",
       "<p>5 rows × 42 columns</p>\n",
       "</div>"
      ],
      "text/plain": [
       "                        _id       name  permalink  \\\n",
       "0  52cdef7c4bab8bd675297d8b  AdventNet       abc3   \n",
       "1  52cdef7c4bab8bd675297d8c       Zoho       abc4   \n",
       "2  52cdef7c4bab8bd675297d8a   Wetpaint       abc2   \n",
       "3  52cdef7c4bab8bd675297d8f  Omnidrive  omnidrive   \n",
       "4  52cdef7c4bab8bd675297d91       Geni       geni   \n",
       "\n",
       "                                crunchbase_url              homepage_url  \\\n",
       "0  http://www.crunchbase.com/company/adventnet      http://adventnet.com   \n",
       "1       http://www.crunchbase.com/company/zoho           http://zoho.com   \n",
       "2   http://www.crunchbase.com/company/wetpaint   http://wetpaint-inc.com   \n",
       "3  http://www.crunchbase.com/company/omnidrive  http://www.omnidrive.com   \n",
       "4       http://www.crunchbase.com/company/geni       http://www.geni.com   \n",
       "\n",
       "                        blog_url                          blog_feed_url  \\\n",
       "0                                                                         \n",
       "1         http://blogs.zoho.com/             http://blogs.zoho.com/feed   \n",
       "2    http://digitalquarters.net/       http://digitalquarters.net/feed/   \n",
       "3  http://www.omnidrive.com/blog  http://feeds.feedburner.com/omnidrive   \n",
       "4           http://blog.geni.com         http://blog.geni.com/index.rdf   \n",
       "\n",
       "  twitter_username    category_code  number_of_employees  ...  \\\n",
       "0     manageengine       enterprise                600.0  ...   \n",
       "1             zoho         software               1600.0  ...   \n",
       "2  BachelrWetpaint              web                 47.0  ...   \n",
       "3         Nomadesk  network_hosting                  NaN  ...   \n",
       "4             geni              web                 18.0  ...   \n",
       "\n",
       "                                        video_embeds  \\\n",
       "0                                                 []   \n",
       "1  [{'embed_code': '<object width=\"430\" height=\"2...   \n",
       "2                                                 []   \n",
       "3                                                 []   \n",
       "4  [{'embed_code': '<object width=\"425\" height=\"3...   \n",
       "\n",
       "                                         screenshots  \\\n",
       "0  [{'available_sizes': [[[150, 94], 'assets/imag...   \n",
       "1                                                 []   \n",
       "2  [{'available_sizes': [[[150, 86], 'assets/imag...   \n",
       "3                                                 []   \n",
       "4                                                 []   \n",
       "\n",
       "                                      external_links partners founded_month  \\\n",
       "0                                                 []       []           NaN   \n",
       "1  [{'external_url': 'http://www.online-tech-tips...       []           9.0   \n",
       "2  [{'external_url': 'http://www.geekwire.com/201...       []          10.0   \n",
       "3                                                 []       []          11.0   \n",
       "4                                                 []       []           6.0   \n",
       "\n",
       "  founded_day deadpooled_month deadpooled_day deadpooled_url   ipo  \n",
       "0         NaN              NaN            NaN            NaN   NaN  \n",
       "1        15.0              NaN            NaN            NaN   NaN  \n",
       "2        17.0              NaN            NaN            NaN   NaN  \n",
       "3         1.0              9.0           15.0                 None  \n",
       "4         1.0              NaN            NaN           None  None  \n",
       "\n",
       "[5 rows x 42 columns]"
      ]
     },
     "execution_count": 7,
     "metadata": {},
     "output_type": "execute_result"
    }
   ],
   "source": [
    "data.head()"
   ]
  },
  {
   "cell_type": "code",
   "execution_count": null,
   "metadata": {},
   "outputs": [],
   "source": []
  },
  {
   "cell_type": "code",
   "execution_count": null,
   "metadata": {},
   "outputs": [],
   "source": [
    "# Creación de la columna geoindice y extracción de los puntos"
   ]
  },
  {
   "cell_type": "code",
   "execution_count": null,
   "metadata": {},
   "outputs": [],
   "source": [
    "# Guardar como JSON"
   ]
  },
  {
   "cell_type": "code",
   "execution_count": null,
   "metadata": {},
   "outputs": [],
   "source": [
    "# Consultas APIs\n",
    "# Google Places: https://developers.google.com/places/web-service/intro\n",
    "# Restaurantes, zomato: https://developers.zomato.com/api?lang=es_cl\n",
    "# Cervezas: https://www.openbrewerydb.org/\n",
    "# Eventos ticketmaster: https://developer.ticketmaster.com/products-and-docs/apis/getting-started/\n",
    "# Eventos evenbite: https://www.eventbrite.com/platform/api#/introduction/authentication/get-a-private-token-(for-single-users)\n",
    "# Cosas de caridad: http://charityapi.orghunter.com/content/charity-geolocation-api\n",
    "# Yelp: https://www.yelp.com/developers"
   ]
  }
 ],
 "metadata": {
  "kernelspec": {
   "display_name": "Python 3",
   "language": "python",
   "name": "python3"
  },
  "language_info": {
   "codemirror_mode": {
    "name": "ipython",
    "version": 3
   },
   "file_extension": ".py",
   "mimetype": "text/x-python",
   "name": "python",
   "nbconvert_exporter": "python",
   "pygments_lexer": "ipython3",
   "version": "3.7.3"
  }
 },
 "nbformat": 4,
 "nbformat_minor": 2
}
