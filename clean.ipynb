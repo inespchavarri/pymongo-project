{
 "cells": [
  {
   "cell_type": "code",
   "execution_count": 1,
   "metadata": {},
   "outputs": [],
   "source": [
    "# imports\n",
    "from pymongo import MongoClient\n",
    "import pandas as pd\n",
    "from funciones import get_divisas, get_values, get_ciudades, geopoint\n",
    "from collections import Counter"
   ]
  },
  {
   "cell_type": "code",
   "execution_count": 2,
   "metadata": {},
   "outputs": [],
   "source": [
    "# conexión con  mongo\n",
    "client = MongoClient(\"mongodb://localhost:27017/\")"
   ]
  },
  {
   "cell_type": "code",
   "execution_count": 3,
   "metadata": {},
   "outputs": [],
   "source": [
    "# conexión con la base de datos \"companies\"\n",
    "db = client.companies"
   ]
  },
  {
   "cell_type": "code",
   "execution_count": 4,
   "metadata": {},
   "outputs": [],
   "source": [
    "# coleción companies\n",
    "collection_companies = db.companies"
   ]
  },
  {
   "cell_type": "code",
   "execution_count": 5,
   "metadata": {},
   "outputs": [],
   "source": [
    "# Query para seleccionar empresas de sectores similares al mío y que sigan en funcionamiento\n",
    "\n",
    "query = collection_companies.find({\"$and\": [\n",
    "                                        {\"offices\": {\"$exists\": True}},\n",
    "                                        {\"offices\": {\"$ne\": None}},\n",
    "                                        {\"deadpooled_year\": {\"$type\": 10}},\n",
    "                                        {\"number_of_employees\": {\"$gte\": 20}},\n",
    "                                        {\"$or\": [\n",
    "                                        {\"category_code\": \"games_video\"},\n",
    "                                        {\"category_code\": \"software\"},\n",
    "                                        {\"category_code\": \"web\"},\n",
    "                                        {\"category_code\": \"mobile\"},\n",
    "                                        {\"category_code\": \"social\"},\n",
    "                                        {\"category_code\": \"photo_video\"},\n",
    "                                        {\"category_code\": \"analytics\"},\n",
    "                                        ]},\n",
    "                                    ]\n",
    "                                    },\n",
    "                                    {\"_id\": 0, \"crunchbase_url\": 0, \"permalink\": 0, \"homepage_url\": 0,\n",
    "                                     \"blog_url\": 0, \"blog_feed_url\": 0, \"twitter_username\": 0, \"founded_month\":0,\n",
    "                                     \"founded_day\": 0, \"deadpooled_month\":0, \"deadpooled_day\": 0, \"deadpooled_url\":0,\n",
    "                                     \"ipo\":0, \"tag_list\":0, \"alias_list\":0, \"email_address\":0, \"phone_number\":0,\n",
    "                                     \"created_at\":0, \"updated_at\":0, \"overview\":0, \"relationships\":0, \"competitions\":0,\n",
    "                                     \"providerships\":0, \"funding_rounds\":0, \"investments\":0, \"milestones\":0,\n",
    "                                     \"products\": 0,\"acquisition\": 0, \"acquisitions\": 0, \"video_embeds\": 0, \n",
    "                                     \"screenshots\": 0, \"external_links\": 0, \"partners\": 0, \"image\": 0\n",
    "                                }\n",
    "                                )"
   ]
  },
  {
   "cell_type": "code",
   "execution_count": 6,
   "metadata": {},
   "outputs": [],
   "source": [
    "data_filter = pd.DataFrame(query)"
   ]
  },
  {
   "cell_type": "code",
   "execution_count": 7,
   "metadata": {},
   "outputs": [
    {
     "data": {
      "text/html": [
       "<div>\n",
       "<style scoped>\n",
       "    .dataframe tbody tr th:only-of-type {\n",
       "        vertical-align: middle;\n",
       "    }\n",
       "\n",
       "    .dataframe tbody tr th {\n",
       "        vertical-align: top;\n",
       "    }\n",
       "\n",
       "    .dataframe thead th {\n",
       "        text-align: right;\n",
       "    }\n",
       "</style>\n",
       "<table border=\"1\" class=\"dataframe\">\n",
       "  <thead>\n",
       "    <tr style=\"text-align: right;\">\n",
       "      <th></th>\n",
       "      <th>name</th>\n",
       "      <th>category_code</th>\n",
       "      <th>number_of_employees</th>\n",
       "      <th>founded_year</th>\n",
       "      <th>deadpooled_year</th>\n",
       "      <th>description</th>\n",
       "      <th>total_money_raised</th>\n",
       "      <th>offices</th>\n",
       "    </tr>\n",
       "  </thead>\n",
       "  <tbody>\n",
       "    <tr>\n",
       "      <th>0</th>\n",
       "      <td>Twitter</td>\n",
       "      <td>social</td>\n",
       "      <td>1300</td>\n",
       "      <td>2006.0</td>\n",
       "      <td>None</td>\n",
       "      <td>Real time communication platform</td>\n",
       "      <td>$1.16B</td>\n",
       "      <td>[{'description': '', 'address1': '1355 Market ...</td>\n",
       "    </tr>\n",
       "    <tr>\n",
       "      <th>1</th>\n",
       "      <td>Facebook</td>\n",
       "      <td>social</td>\n",
       "      <td>5299</td>\n",
       "      <td>2004.0</td>\n",
       "      <td>None</td>\n",
       "      <td>Social network</td>\n",
       "      <td>$2.43B</td>\n",
       "      <td>[{'description': 'Headquarters', 'address1': '...</td>\n",
       "    </tr>\n",
       "    <tr>\n",
       "      <th>2</th>\n",
       "      <td>Plaxo</td>\n",
       "      <td>web</td>\n",
       "      <td>50</td>\n",
       "      <td>2002.0</td>\n",
       "      <td>None</td>\n",
       "      <td>Contact Management</td>\n",
       "      <td>$28.3M</td>\n",
       "      <td>[{'description': 'HQ', 'address1': '1050 Enter...</td>\n",
       "    </tr>\n",
       "  </tbody>\n",
       "</table>\n",
       "</div>"
      ],
      "text/plain": [
       "       name category_code  number_of_employees  founded_year deadpooled_year  \\\n",
       "0   Twitter        social                 1300        2006.0            None   \n",
       "1  Facebook        social                 5299        2004.0            None   \n",
       "2     Plaxo           web                   50        2002.0            None   \n",
       "\n",
       "                        description total_money_raised  \\\n",
       "0  Real time communication platform             $1.16B   \n",
       "1                    Social network             $2.43B   \n",
       "2                Contact Management             $28.3M   \n",
       "\n",
       "                                             offices  \n",
       "0  [{'description': '', 'address1': '1355 Market ...  \n",
       "1  [{'description': 'Headquarters', 'address1': '...  \n",
       "2  [{'description': 'HQ', 'address1': '1050 Enter...  "
      ]
     },
     "execution_count": 7,
     "metadata": {},
     "output_type": "execute_result"
    }
   ],
   "source": [
    "data_filter.head(3)"
   ]
  },
  {
   "cell_type": "code",
   "execution_count": 8,
   "metadata": {},
   "outputs": [
    {
     "data": {
      "text/plain": [
       "(1506, 8)"
      ]
     },
     "execution_count": 8,
     "metadata": {},
     "output_type": "execute_result"
    }
   ],
   "source": [
    "data_filter.shape"
   ]
  },
  {
   "cell_type": "code",
   "execution_count": 9,
   "metadata": {},
   "outputs": [],
   "source": [
    "# Limpieza columna offices\n",
    "# Elimino las filas cuyo valor en \"Offices\" sea una lista vacía\n",
    "data_filter = data_filter[pd.Series(map(len, data_filter[\"offices\"])) > 0]"
   ]
  },
  {
   "cell_type": "code",
   "execution_count": 10,
   "metadata": {},
   "outputs": [],
   "source": [
    "# Creo dos nuevas columnas con las latitudes y las longituedes \n",
    "data_filter[\"latitude\"] = [element[0][\"latitude\"] for element in data_filter[\"offices\"]]\n",
    "data_filter[\"longitude\"] = [element[0][\"longitude\"] for element in data_filter[\"offices\"]]"
   ]
  },
  {
   "cell_type": "code",
   "execution_count": 11,
   "metadata": {},
   "outputs": [],
   "source": [
    "# Elimino aquellas filas cuyo valor para latitude sea None\n",
    "# ~ invierte valores booleanos\n",
    "data_filter = data_filter[~ data_filter[\"latitude\"].isna()]"
   ]
  },
  {
   "cell_type": "code",
   "execution_count": 12,
   "metadata": {},
   "outputs": [],
   "source": [
    "# Elimino los valores duplicados\n",
    "data_filter = data_filter.drop_duplicates(subset=\"latitude\")"
   ]
  },
  {
   "cell_type": "code",
   "execution_count": 13,
   "metadata": {},
   "outputs": [],
   "source": [
    "# Creo tres nuevas columnas \"country\", \"state\", \"city\""
   ]
  },
  {
   "cell_type": "code",
   "execution_count": 14,
   "metadata": {},
   "outputs": [],
   "source": [
    "data_filter[\"country\"] = [element[0][\"country_code\"] for element in data_filter[\"offices\"]]\n",
    "data_filter[\"state\"] = [element[0][\"state_code\"] for element in data_filter[\"offices\"]]\n",
    "data_filter[\"city\"] = [element[0][\"city\"] for element in data_filter[\"offices\"]]"
   ]
  },
  {
   "cell_type": "code",
   "execution_count": 15,
   "metadata": {},
   "outputs": [],
   "source": [
    "# Limpieza columna \"total_money_raised\""
   ]
  },
  {
   "cell_type": "code",
   "execution_count": 16,
   "metadata": {},
   "outputs": [],
   "source": [
    "currency = [e[0] for e in data_filter[\"total_money_raised\"]]\n",
    "unique_currency = set(currency)"
   ]
  },
  {
   "cell_type": "code",
   "execution_count": 17,
   "metadata": {},
   "outputs": [],
   "source": [
    "divisas = {\n",
    "        \"$\": \"Dolares estadounidenses\", \n",
    "        \"€\": \"Euros\", \n",
    "        \"C\": \"Dolares canadienses\",\n",
    "        \"C$\": \"Dolares canadienses\",\n",
    "        \"£\": \"Libras\", \n",
    "        \"kr\": \"Coronas suecas\"\n",
    "    }\n",
    "\n",
    "data_filter[\"currency\"] = get_divisas(currency, divisas)"
   ]
  },
  {
   "cell_type": "code",
   "execution_count": 18,
   "metadata": {},
   "outputs": [],
   "source": [
    "valores = {\"B\": 1e9, \"M\": 1e6, \"k\": 1e3}"
   ]
  },
  {
   "cell_type": "code",
   "execution_count": 19,
   "metadata": {},
   "outputs": [],
   "source": [
    "data_filter[\"total_amount_raised\"] = data_filter[\"total_money_raised\"].apply(lambda x: get_values(x, divisas, valores))"
   ]
  },
  {
   "cell_type": "code",
   "execution_count": 20,
   "metadata": {},
   "outputs": [],
   "source": [
    "# Eliminar filas de empresas que hayan ganado menos de un millón\n",
    "data_filter = data_filter[data_filter[\"total_amount_raised\"] >= 1000000]"
   ]
  },
  {
   "cell_type": "code",
   "execution_count": 21,
   "metadata": {},
   "outputs": [
    {
     "data": {
      "text/plain": [
       "{'San Francisco': 51,\n",
       " 'New York': 31,\n",
       " 'Seattle': 13,\n",
       " 'Mountain View': 12,\n",
       " 'Palo Alto': 11,\n",
       " 'Sunnyvale': 10,\n",
       " 'Redwood City': 10,\n",
       " 'Santa Clara': 9,\n",
       " 'San Mateo': 9,\n",
       " 'Cambridge': 9,\n",
       " 'London': 9,\n",
       " 'San Jose': 7,\n",
       " 'Paris': 7,\n",
       " 'Austin': 6,\n",
       " 'Boston': 6}"
      ]
     },
     "execution_count": 21,
     "metadata": {},
     "output_type": "execute_result"
    }
   ],
   "source": [
    "# Decido quedarme con las 15 ciudades que más empresas tienen bajo los criterios seleccionados\n",
    "ciudades = Counter(data_filter[\"city\"])\n",
    "ciudades = dict([city for city in ciudades.most_common(15)])\n",
    "ciudades"
   ]
  },
  {
   "cell_type": "code",
   "execution_count": 22,
   "metadata": {},
   "outputs": [],
   "source": [
    "ciudades_list = list(ciudades.keys())"
   ]
  },
  {
   "cell_type": "code",
   "execution_count": 23,
   "metadata": {},
   "outputs": [],
   "source": [
    "data_filter[\"city\"] = data_filter[\"city\"].apply(lambda x: get_ciudades(x, ciudades_list))"
   ]
  },
  {
   "cell_type": "code",
   "execution_count": 24,
   "metadata": {},
   "outputs": [],
   "source": [
    "data_filter = data_filter[data_filter[\"city\"] != \"other\"]"
   ]
  },
  {
   "cell_type": "code",
   "execution_count": null,
   "metadata": {},
   "outputs": [],
   "source": []
  },
  {
   "cell_type": "code",
   "execution_count": null,
   "metadata": {},
   "outputs": [],
   "source": []
  },
  {
   "cell_type": "code",
   "execution_count": 25,
   "metadata": {},
   "outputs": [],
   "source": [
    "# creo la columna geo para los geopoints\n",
    "data_filter[\"geo\"] = data_filter.apply(lambda x: geopoint(x[\"longitude\"], x[\"latitude\"]), axis = 1)"
   ]
  },
  {
   "cell_type": "code",
   "execution_count": 26,
   "metadata": {},
   "outputs": [
    {
     "data": {
      "text/html": [
       "<div>\n",
       "<style scoped>\n",
       "    .dataframe tbody tr th:only-of-type {\n",
       "        vertical-align: middle;\n",
       "    }\n",
       "\n",
       "    .dataframe tbody tr th {\n",
       "        vertical-align: top;\n",
       "    }\n",
       "\n",
       "    .dataframe thead th {\n",
       "        text-align: right;\n",
       "    }\n",
       "</style>\n",
       "<table border=\"1\" class=\"dataframe\">\n",
       "  <thead>\n",
       "    <tr style=\"text-align: right;\">\n",
       "      <th></th>\n",
       "      <th>name</th>\n",
       "      <th>category_code</th>\n",
       "      <th>number_of_employees</th>\n",
       "      <th>founded_year</th>\n",
       "      <th>deadpooled_year</th>\n",
       "      <th>description</th>\n",
       "      <th>total_money_raised</th>\n",
       "      <th>offices</th>\n",
       "      <th>latitude</th>\n",
       "      <th>longitude</th>\n",
       "      <th>country</th>\n",
       "      <th>state</th>\n",
       "      <th>city</th>\n",
       "      <th>currency</th>\n",
       "      <th>total_amount_raised</th>\n",
       "      <th>geo</th>\n",
       "    </tr>\n",
       "  </thead>\n",
       "  <tbody>\n",
       "    <tr>\n",
       "      <th>0</th>\n",
       "      <td>Twitter</td>\n",
       "      <td>social</td>\n",
       "      <td>1300</td>\n",
       "      <td>2006.0</td>\n",
       "      <td>None</td>\n",
       "      <td>Real time communication platform</td>\n",
       "      <td>$1.16B</td>\n",
       "      <td>[{'description': '', 'address1': '1355 Market ...</td>\n",
       "      <td>37.776805</td>\n",
       "      <td>-122.416924</td>\n",
       "      <td>USA</td>\n",
       "      <td>CA</td>\n",
       "      <td>San Francisco</td>\n",
       "      <td>Dolares estadounidenses</td>\n",
       "      <td>1.160000e+09</td>\n",
       "      <td>{'type': 'Point', 'coordinates': [-122.4169244...</td>\n",
       "    </tr>\n",
       "    <tr>\n",
       "      <th>2</th>\n",
       "      <td>Plaxo</td>\n",
       "      <td>web</td>\n",
       "      <td>50</td>\n",
       "      <td>2002.0</td>\n",
       "      <td>None</td>\n",
       "      <td>Contact Management</td>\n",
       "      <td>$28.3M</td>\n",
       "      <td>[{'description': 'HQ', 'address1': '1050 Enter...</td>\n",
       "      <td>37.387845</td>\n",
       "      <td>-122.055197</td>\n",
       "      <td>USA</td>\n",
       "      <td>CA</td>\n",
       "      <td>Sunnyvale</td>\n",
       "      <td>Dolares estadounidenses</td>\n",
       "      <td>2.830000e+07</td>\n",
       "      <td>{'type': 'Point', 'coordinates': [-122.055197,...</td>\n",
       "    </tr>\n",
       "    <tr>\n",
       "      <th>3</th>\n",
       "      <td>eBay</td>\n",
       "      <td>web</td>\n",
       "      <td>15000</td>\n",
       "      <td>1995.0</td>\n",
       "      <td>None</td>\n",
       "      <td>Online Marketplace</td>\n",
       "      <td>$6.7M</td>\n",
       "      <td>[{'description': 'Headquarters', 'address1': '...</td>\n",
       "      <td>37.295005</td>\n",
       "      <td>-121.930035</td>\n",
       "      <td>USA</td>\n",
       "      <td>CA</td>\n",
       "      <td>San Jose</td>\n",
       "      <td>Dolares estadounidenses</td>\n",
       "      <td>6.700000e+06</td>\n",
       "      <td>{'type': 'Point', 'coordinates': [-121.930035,...</td>\n",
       "    </tr>\n",
       "    <tr>\n",
       "      <th>5</th>\n",
       "      <td>Kyte</td>\n",
       "      <td>games_video</td>\n",
       "      <td>40</td>\n",
       "      <td>2006.0</td>\n",
       "      <td>None</td>\n",
       "      <td>Online &amp; Mobile Video Platform</td>\n",
       "      <td>$23.4M</td>\n",
       "      <td>[{'description': None, 'address1': '442 Post S...</td>\n",
       "      <td>37.788482</td>\n",
       "      <td>-122.409173</td>\n",
       "      <td>USA</td>\n",
       "      <td>CA</td>\n",
       "      <td>San Francisco</td>\n",
       "      <td>Dolares estadounidenses</td>\n",
       "      <td>2.340000e+07</td>\n",
       "      <td>{'type': 'Point', 'coordinates': [-122.409173,...</td>\n",
       "    </tr>\n",
       "    <tr>\n",
       "      <th>6</th>\n",
       "      <td>Jingle Networks</td>\n",
       "      <td>mobile</td>\n",
       "      <td>35</td>\n",
       "      <td>2005.0</td>\n",
       "      <td>None</td>\n",
       "      <td>Voice and Mobile Search</td>\n",
       "      <td>$88.7M</td>\n",
       "      <td>[{'description': '', 'address1': '475 Park Ave...</td>\n",
       "      <td>37.480999</td>\n",
       "      <td>-122.173887</td>\n",
       "      <td>USA</td>\n",
       "      <td>NY</td>\n",
       "      <td>New York</td>\n",
       "      <td>Dolares estadounidenses</td>\n",
       "      <td>8.870000e+07</td>\n",
       "      <td>{'type': 'Point', 'coordinates': [-122.173887,...</td>\n",
       "    </tr>\n",
       "  </tbody>\n",
       "</table>\n",
       "</div>"
      ],
      "text/plain": [
       "              name category_code  number_of_employees  founded_year  \\\n",
       "0          Twitter        social                 1300        2006.0   \n",
       "2            Plaxo           web                   50        2002.0   \n",
       "3             eBay           web                15000        1995.0   \n",
       "5             Kyte   games_video                   40        2006.0   \n",
       "6  Jingle Networks        mobile                   35        2005.0   \n",
       "\n",
       "  deadpooled_year                       description total_money_raised  \\\n",
       "0            None  Real time communication platform             $1.16B   \n",
       "2            None                Contact Management             $28.3M   \n",
       "3            None                Online Marketplace              $6.7M   \n",
       "5            None    Online & Mobile Video Platform             $23.4M   \n",
       "6            None           Voice and Mobile Search             $88.7M   \n",
       "\n",
       "                                             offices   latitude   longitude  \\\n",
       "0  [{'description': '', 'address1': '1355 Market ...  37.776805 -122.416924   \n",
       "2  [{'description': 'HQ', 'address1': '1050 Enter...  37.387845 -122.055197   \n",
       "3  [{'description': 'Headquarters', 'address1': '...  37.295005 -121.930035   \n",
       "5  [{'description': None, 'address1': '442 Post S...  37.788482 -122.409173   \n",
       "6  [{'description': '', 'address1': '475 Park Ave...  37.480999 -122.173887   \n",
       "\n",
       "  country state           city                 currency  total_amount_raised  \\\n",
       "0     USA    CA  San Francisco  Dolares estadounidenses         1.160000e+09   \n",
       "2     USA    CA      Sunnyvale  Dolares estadounidenses         2.830000e+07   \n",
       "3     USA    CA       San Jose  Dolares estadounidenses         6.700000e+06   \n",
       "5     USA    CA  San Francisco  Dolares estadounidenses         2.340000e+07   \n",
       "6     USA    NY       New York  Dolares estadounidenses         8.870000e+07   \n",
       "\n",
       "                                                 geo  \n",
       "0  {'type': 'Point', 'coordinates': [-122.4169244...  \n",
       "2  {'type': 'Point', 'coordinates': [-122.055197,...  \n",
       "3  {'type': 'Point', 'coordinates': [-121.930035,...  \n",
       "5  {'type': 'Point', 'coordinates': [-122.409173,...  \n",
       "6  {'type': 'Point', 'coordinates': [-122.173887,...  "
      ]
     },
     "execution_count": 26,
     "metadata": {},
     "output_type": "execute_result"
    }
   ],
   "source": [
    "data_filter.head()"
   ]
  },
  {
   "cell_type": "code",
   "execution_count": 27,
   "metadata": {},
   "outputs": [
    {
     "data": {
      "text/plain": [
       "(200, 16)"
      ]
     },
     "execution_count": 27,
     "metadata": {},
     "output_type": "execute_result"
    }
   ],
   "source": [
    "data_filter.shape"
   ]
  },
  {
   "cell_type": "code",
   "execution_count": 28,
   "metadata": {},
   "outputs": [],
   "source": [
    "# Limpieza definitiva columnas"
   ]
  },
  {
   "cell_type": "code",
   "execution_count": 29,
   "metadata": {},
   "outputs": [],
   "source": [
    "data_filter = data_filter.drop([\"total_money_raised\", \"offices\"], axis=1)"
   ]
  },
  {
   "cell_type": "code",
   "execution_count": 30,
   "metadata": {},
   "outputs": [],
   "source": [
    "# Guardar como JSON\n",
    "data_filter.to_json(r\"clean_companies.json\", orient=\"records\")"
   ]
  },
  {
   "cell_type": "code",
   "execution_count": null,
   "metadata": {},
   "outputs": [],
   "source": []
  },
  {
   "cell_type": "code",
   "execution_count": null,
   "metadata": {},
   "outputs": [],
   "source": []
  }
 ],
 "metadata": {
  "kernelspec": {
   "display_name": "Python 3",
   "language": "python",
   "name": "python3"
  },
  "language_info": {
   "codemirror_mode": {
    "name": "ipython",
    "version": 3
   },
   "file_extension": ".py",
   "mimetype": "text/x-python",
   "name": "python",
   "nbconvert_exporter": "python",
   "pygments_lexer": "ipython3",
   "version": "3.7.3"
  }
 },
 "nbformat": 4,
 "nbformat_minor": 2
}
